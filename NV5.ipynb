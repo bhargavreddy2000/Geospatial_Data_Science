{
 "cells": [
  {
   "cell_type": "markdown",
   "id": "57555d99",
   "metadata": {},
   "source": [
    "# Feature Extraction Using GeoPandas"
   ]
  },
  {
   "cell_type": "markdown",
   "id": "f818055b",
   "metadata": {},
   "source": [
    "Import modules"
   ]
  },
  {
   "cell_type": "code",
   "execution_count": 1,
   "id": "a890f4aa",
   "metadata": {},
   "outputs": [],
   "source": [
    "import geopandas as gpd\n",
    "import pandas as pd\n",
    "import rasterio\n",
    "from rasterio.mask import mask\n",
    "import numpy as np"
   ]
  },
  {
   "cell_type": "code",
   "execution_count": null,
   "id": "08e41242",
   "metadata": {},
   "outputs": [],
   "source": [
    "#reading vector\n",
    "shapefile_path = \"\"\n",
    "rasterfile_path = \"\"\n",
    "# vector = pd.read_file(shapefile_path)\n",
    "# shapes = [feature[\"geometry\"] for feature in vector]\n",
    "\n",
    "\n",
    "#Subsetting to AOI\n",
    "#Vector=Vector[Vector[#####]==#####]\n",
    "\n",
    "# #reading raster  \n",
    "# raster = rasterio.open(rasterfile_path)\n",
    "\n",
    "# #set the coordinate system to same\n",
    "# Vector = Vector.to_crs(raster.crs)\n",
    "\n",
    "# #clipping raster to vector\n",
    "# raster_clipped = rasterio.open(rasterfile_path, bbox=vector.total_bounds)\n",
    "\n",
    "with gpd.read_file(shapefile_path) as vector:\n",
    "    with rasterio.open(rasterfile_path) as raster:\n",
    "        Pixel_values = [] \n",
    "        class_1 = []\n",
    "        vector = vector.to_crs(raster.crs)\n",
    "        for index, geom in vector.iterrows():\n",
    "            geometry = geom[\"geometry\"]\n",
    "            class_2 = geom[\"class\"]\n",
    "            out_image, out_transform = rasterio.mask.mask(raster, [geometry], crop=True)\n",
    "            Pixel_values.append(out_image)\n",
    "            class_1.append(class_2)"
   ]
  },
  {
   "cell_type": "code",
   "execution_count": null,
   "id": "f0d0cf15",
   "metadata": {},
   "outputs": [],
   "source": [
    "Pixel_values"
   ]
  },
  {
   "cell_type": "code",
   "execution_count": null,
   "id": "0aca9297",
   "metadata": {},
   "outputs": [],
   "source": [
    "#unravel into 1D array\n",
    "flattened_pixel_values = []\n",
    "class_values = []\n",
    "\n",
    "for i in pixel_values:\n",
    "    flattened = i.unravel()\n",
    "    flattened_pixel_values.append(flattened)\n",
    "\n",
    "#stack up 1D list into an array\n",
    "refined = pd.dataframe({\"Class\": class_1,\n",
    "                        \"Pixel\": flattened_pixel_values})"
   ]
  }
 ],
 "metadata": {
  "kernelspec": {
   "display_name": "Python 3 (ipykernel)",
   "language": "python",
   "name": "python3"
  },
  "language_info": {
   "codemirror_mode": {
    "name": "ipython",
    "version": 3
   },
   "file_extension": ".py",
   "mimetype": "text/x-python",
   "name": "python",
   "nbconvert_exporter": "python",
   "pygments_lexer": "ipython3",
   "version": "3.10.5"
  }
 },
 "nbformat": 4,
 "nbformat_minor": 5
}
